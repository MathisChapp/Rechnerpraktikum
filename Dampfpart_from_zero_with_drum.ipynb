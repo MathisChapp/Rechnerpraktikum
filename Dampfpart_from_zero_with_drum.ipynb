{
 "cells": [
  {
   "cell_type": "code",
   "execution_count": 2,
   "id": "3095a09a",
   "metadata": {},
   "outputs": [],
   "source": [
    "import numpy as np\n",
    "import tespy\n",
    "from matplotlib import pyplot as plt\n",
    "\n",
    "from tespy.networks import Network\n",
    "from tespy.components import (Sink, Source, Valve, SimpleHeatExchanger, Compressor, CycleCloser)\n",
    "from tespy.components import CombustionChamber # adiabatic ?\n",
    "from tespy.components import (HeatExchanger, Condenser, Desuperheater)\n",
    "from tespy.components import (Drum, Merge, Separator, Splitter)\n",
    "from tespy.components import (Pump, Turbine)\n",
    "from tespy.connections import Connection, Bus\n",
    "from tespy.tools import ExergyAnalysis\n",
    "from CoolProp.CoolProp import PropsSI as cpsi"
   ]
  },
  {
   "cell_type": "code",
   "execution_count": 4,
   "id": "bf8685b7",
   "metadata": {},
   "outputs": [
    {
     "name": "stderr",
     "output_type": "stream",
     "text": [
      "Singularity in jacobian matrix, calculation aborted! Make sure your network does not have any linear dependencies in the parametrisation. Other reasons might be\n",
      "-> given temperature with given pressure in two phase region, try setting enthalpy instead or provide accurate starting value for pressure.\n",
      "-> given logarithmic temperature differences or kA-values for heat exchangers, \n",
      "-> support better starting values.\n",
      "-> bad starting value for fuel mass flow of combustion chamber, provide small (near to zero, but not zero) starting value.\n"
     ]
    },
    {
     "name": "stdout",
     "output_type": "stream",
     "text": [
      "\n",
      " iter  | residual   | progress   | massflow   | pressure   | enthalpy   | fluid      | component  \n",
      "-------+------------+------------+------------+------------+------------+------------+------------\n",
      " 1     | 2.36e+10   | 0 %        | NaN        | NaN        | NaN        | NaN        | NaN        \n",
      "Total iterations: 1, Calculation time: 0.00 s, Iterations per second: 317.80\n",
      "\n",
      "##### RESULTS (Bus: motor-for-water-compression) #####\n",
      "+-------+-------------------+-------------+--------------+\n",
      "|       |   component value |   bus value |   efficiency |\n",
      "|-------+-------------------+-------------+--------------|\n",
      "| total |         0.000e+00 |   0.000e+00 |          nan |\n",
      "+-------+-------------------+-------------+--------------+\n"
     ]
    }
   ],
   "source": [
    "#fluids\n",
    "wf = 'Water'\n",
    "fld_wf = {wf:1}\n",
    "\n",
    "air = 'Air'\n",
    "fld_air = {'N2': 0.79, 'O2': 0.21}\n",
    "\n",
    "#network\n",
    "dampferzeuger = Network(T_unit = 'C', p_unit = 'bar', h_unit = 'kJ / kg', m_unit = 't / h')\n",
    "\n",
    "src_water = Source('Water_source')\n",
    "snk_water = Sink('Water_sink')\n",
    "comp_water = Compressor('Water_compressor')\n",
    "economizer = HeatExchanger('Economizer')\n",
    "evaporator = HeatExchanger('Evaporator')\n",
    "drum = Drum('Trommel')\n",
    "\n",
    "src_air = Source('Air_source')\n",
    "snk_air = Sink('Air_sink')\n",
    "\n",
    "\n",
    "c00 = Connection(src_water, 'out1', comp_water, 'in1', label = '00')\n",
    "c01 = Connection(comp_water, 'out1', economizer, 'in2', label = '01')\n",
    "c02 = Connection(economizer, 'out2', drum, 'in1', label = '02')\n",
    "c03 = Connection(drum, 'out1', evaporator, 'in2', label = '03')\n",
    "c04 = Connection(evaporator, 'out2', drum, 'in2', label = '04')\n",
    "c05 = Connection(drum, 'out2', snk_water, 'in1', label = '05')\n",
    "\n",
    "c10 = Connection(src_air, 'out1', evaporator, 'in1', label = '10')\n",
    "c11 = Connection(evaporator, 'out1', economizer, 'in1', label = '11')\n",
    "c12 = Connection(economizer, 'out1', snk_air, 'in1', label = '12')\n",
    "\n",
    "\n",
    "\n",
    "dampferzeuger.add_conns(c00, c01, c02, c03, c04, c05, c10, c11, c12)\n",
    "\n",
    "# parameter\n",
    "c00.set_attr(T = 60, p = 1, m = 1350, fluid = fld_wf)\n",
    "c01.set_attr(p = 41)\n",
    "\n",
    "T_sat = cpsi('T', 'Q', 0, 'P', 41*1e5, wf) - 273.15\n",
    "#c04.set_attr(T = T_sat, x = 1)\n",
    "\n",
    "#h_sat_0 = cpsi('H', 'Q', 0, 'P', 41*1e5, wf)/1e3\n",
    "h_sat_0 = cpsi('H', 'Q', 0, 'T', T_sat + 273.15, wf)/1e3\n",
    "c02.set_attr(h = h_sat_0)\n",
    "\n",
    "#h_sat_1 = cpsi('H', 'Q', 1, 'P', 41*1e5, wf)/1e3\n",
    "h_sat_1 = cpsi('H', 'Q', 1, 'T', T_sat + 273.15, wf)/1e3\n",
    "c05.set_attr(h = h_sat_1)\n",
    "\n",
    "\n",
    "\n",
    "\n",
    "c10.set_attr(T = 1000, p = 30, m = 100000, fluid = fld_air)\n",
    "\n",
    "comp_water.set_attr(eta_s = 0.8)\n",
    "economizer.set_attr(pr1 = 1, pr2 = 1)\n",
    "evaporator.set_attr(pr1 = 1)\n",
    "\n",
    "motor_comp_water = Bus('motor-for-water-compression')\n",
    "motor_comp_water.add_comps({'comp' : comp_water, 'char' : 0.975, 'base' : 'bus'})\n",
    "\n",
    "#heat_economizer = Bus('heat-for-economizer')\n",
    "#heat_economizer.add_comps({'comp' : economizer, 'base' : 'bus'})\n",
    "\n",
    "\n",
    "#dampferzeuger.add_busses(motor_comp_water, heat_economizer)\n",
    "dampferzeuger.add_busses(motor_comp_water)\n",
    "\n",
    "#solve\n",
    "dampferzeuger.solve(mode='design')\n",
    "dampferzeuger.print_results()"
   ]
  },
  {
   "cell_type": "code",
   "execution_count": 27,
   "id": "f4030f59",
   "metadata": {},
   "outputs": [
    {
     "data": {
      "text/plain": [
       "251.8226901958808"
      ]
     },
     "execution_count": 27,
     "metadata": {},
     "output_type": "execute_result"
    }
   ],
   "source": []
  },
  {
   "cell_type": "code",
   "execution_count": null,
   "id": "6be56cbf",
   "metadata": {},
   "outputs": [],
   "source": []
  }
 ],
 "metadata": {
  "kernelspec": {
   "display_name": "Python 3 (ipykernel)",
   "language": "python",
   "name": "python3"
  },
  "language_info": {
   "codemirror_mode": {
    "name": "ipython",
    "version": 3
   },
   "file_extension": ".py",
   "mimetype": "text/x-python",
   "name": "python",
   "nbconvert_exporter": "python",
   "pygments_lexer": "ipython3",
   "version": "3.10.9"
  }
 },
 "nbformat": 4,
 "nbformat_minor": 5
}
