{
 "cells": [
  {
   "cell_type": "code",
   "execution_count": 1,
   "id": "a0736d1d",
   "metadata": {},
   "outputs": [],
   "source": [
    "import numpy as np\n",
    "import tespy\n",
    "from matplotlib import pyplot as plt\n",
    "\n",
    "from tespy.networks import Network\n",
    "from tespy.components import (Sink, Source, Valve, SimpleHeatExchanger, Compressor, CycleCloser)\n",
    "from tespy.components import CombustionChamber # adiabatic ?\n",
    "from tespy.components import (HeatExchanger, Condenser, Desuperheater)\n",
    "from tespy.components import (Drum, Merge, Separator, Splitter)\n",
    "from tespy.components import (Pump, Turbine)\n",
    "from tespy.connections import Connection, Bus\n",
    "from tespy.tools import ExergyAnalysis\n",
    "from CoolProp.CoolProp import PropsSI as cpsi"
   ]
  },
  {
   "cell_type": "code",
   "execution_count": 2,
   "id": "f151cb1c",
   "metadata": {},
   "outputs": [],
   "source": [
    "#fluids\n",
    "wf = 'Water'\n",
    "fld_wf = {wf:1}\n",
    "\n",
    "gas = 'Methane' # 30 bar and 15°\n",
    "fld_gas = {'CH4':1}\n",
    "\n",
    "air = 'Air' # 1 bar and 15°\n",
    "fld_air = {'N2': 0.79, 'O2': 0.21}"
   ]
  },
  {
   "cell_type": "code",
   "execution_count": 3,
   "id": "653152af",
   "metadata": {},
   "outputs": [
    {
     "name": "stdout",
     "output_type": "stream",
     "text": [
      "\n",
      " iter  | residual   | progress   | massflow   | pressure   | enthalpy   | fluid      | component  \n",
      "-------+------------+------------+------------+------------+------------+------------+------------\n",
      " 1     | 1.38e+09   | 0 %        | 1.59e+03   | 3.54e+06   | 2.66e+10   | 1.88e+03   | 0.00e+00   \n",
      " 2     | 1.95e+09   | 0 %        | 3.65e-07   | 0.00e+00   | 1.36e+06   | 5.37e-02   | 0.00e+00   \n",
      " 3     | 2.51e+07   | 0 %        | 5.18e-13   | 0.00e+00   | 2.21e+04   | 7.24e-02   | 0.00e+00   \n",
      " 4     | 8.22e+01   | 45 %       | 4.90e-25   | 0.00e+00   | 7.05e-06   | 7.24e-02   | 0.00e+00   \n",
      " 5     | 1.55e+07   | 0 %        | 9.50e-16   | 0.00e+00   | 1.37e+04   | 8.38e-02   | 0.00e+00   \n",
      " 6     | 9.52e+01   | 44 %       | 1.90e-28   | 0.00e+00   | 2.73e-09   | 8.38e-02   | 0.00e+00   \n",
      " 7     | 9.52e+01   | 44 %       | 5.83e-28   | 0.00e+00   | 8.40e-09   | 8.38e-02   | 0.00e+00   \n",
      " 8     | 9.52e+01   | 44 %       | 1.46e-29   | 0.00e+00   | 2.10e-10   | 8.38e-02   | 0.00e+00   \n",
      " 9     | 9.52e+01   | 44 %       | 1.46e-29   | 0.00e+00   | 2.10e-10   | 8.38e-02   | 0.00e+00   \n",
      " 10    | 9.52e+01   | 44 %       | 1.46e-29   | 0.00e+00   | 2.10e-10   | 8.38e-02   | 0.00e+00   \n",
      " 11    | 9.52e+01   | 44 %       | 1.46e-29   | 0.00e+00   | 2.10e-10   | 8.38e-02   | 0.00e+00   \n",
      " 12    | 9.52e+01   | 44 %       | 1.46e-29   | 0.00e+00   | 2.10e-10   | 8.38e-02   | 0.00e+00   \n",
      " 13    | 9.52e+01   | 44 %       | 1.46e-29   | 0.00e+00   | 2.10e-10   | 8.38e-02   | 0.00e+00   \n",
      " 14    | 9.52e+01   | 44 %       | 1.46e-29   | 0.00e+00   | 2.10e-10   | 8.38e-02   | 0.00e+00   \n",
      " 15    | 9.52e+01   | 44 %       | 1.46e-29   | 0.00e+00   | 2.10e-10   | 8.38e-02   | 0.00e+00   \n",
      " 16    | 9.52e+01   | 44 %       | 1.46e-29   | 0.00e+00   | 2.10e-10   | 8.38e-02   | 0.00e+00   \n",
      " 17    | 9.52e+01   | 44 %       | 1.46e-29   | 0.00e+00   | 2.10e-10   | 8.38e-02   | 0.00e+00   \n",
      " 18    | 9.52e+01   | 44 %       | 1.46e-29   | 0.00e+00   | 2.10e-10   | 8.38e-02   | 0.00e+00   \n",
      " 19    | 9.52e+01   | 44 %       | 1.46e-29   | 0.00e+00   | 2.10e-10   | 8.38e-02   | 0.00e+00   \n",
      " 20    | 9.52e+01   | 44 %       | 1.46e-29   | 0.00e+00   | 2.10e-10   | 8.38e-02   | 0.00e+00   \n",
      " 21    | 9.52e+01   | 44 %       | 1.46e-29   | 0.00e+00   | 2.10e-10   | 8.38e-02   | 0.00e+00   \n"
     ]
    },
    {
     "name": "stderr",
     "output_type": "stream",
     "text": [
      "The solver does not seem to make any progress, aborting calculation. Residual value is 9.52e+01. This frequently happens, if the solver pushes the fluid properties out of their feasible range.\n"
     ]
    },
    {
     "name": "stdout",
     "output_type": "stream",
     "text": [
      " 22    | 9.52e+01   | 44 %       | 1.46e-29   | 0.00e+00   | 2.10e-10   | 8.38e-02   | 0.00e+00   \n",
      " 23    | 9.52e+01   | 44 %       | 1.46e-29   | 0.00e+00   | 2.10e-10   | 8.38e-02   | 0.00e+00   \n",
      " 24    | 9.52e+01   | 44 %       | 1.46e-29   | 0.00e+00   | 2.10e-10   | 8.38e-02   | 0.00e+00   \n",
      " 25    | 9.52e+01   | 44 %       | 1.46e-29   | 0.00e+00   | 2.10e-10   | 8.38e-02   | 0.00e+00   \n",
      " 26    | 9.52e+01   | 44 %       | 1.46e-29   | 0.00e+00   | 2.10e-10   | 8.38e-02   | 0.00e+00   \n",
      " 27    | 9.52e+01   | 44 %       | 1.46e-29   | 0.00e+00   | 2.10e-10   | 8.38e-02   | 0.00e+00   \n",
      " 28    | 9.52e+01   | 44 %       | 1.46e-29   | 0.00e+00   | 2.10e-10   | 8.38e-02   | 0.00e+00   \n",
      " 29    | 9.52e+01   | 44 %       | 1.46e-29   | 0.00e+00   | 2.10e-10   | 8.38e-02   | 0.00e+00   \n",
      " 30    | 9.52e+01   | 44 %       | 1.46e-29   | 0.00e+00   | 2.10e-10   | 8.38e-02   | 0.00e+00   \n",
      " 31    | 9.52e+01   | 44 %       | 1.46e-29   | 0.00e+00   | 2.10e-10   | 8.38e-02   | 0.00e+00   \n",
      " 32    | 9.52e+01   | 44 %       | 1.46e-29   | 0.00e+00   | 2.10e-10   | 8.38e-02   | 0.00e+00   \n",
      " 33    | 9.52e+01   | 44 %       | 1.46e-29   | 0.00e+00   | 2.10e-10   | 8.38e-02   | 0.00e+00   \n",
      " 34    | 9.52e+01   | 44 %       | 1.46e-29   | 0.00e+00   | 2.10e-10   | 8.38e-02   | 0.00e+00   \n",
      " 35    | 9.52e+01   | 44 %       | 1.46e-29   | 0.00e+00   | 2.10e-10   | 8.38e-02   | 0.00e+00   \n",
      " 36    | 9.52e+01   | 44 %       | 1.46e-29   | 0.00e+00   | 2.10e-10   | 8.38e-02   | 0.00e+00   \n",
      " 37    | 9.52e+01   | 44 %       | 1.46e-29   | 0.00e+00   | 2.10e-10   | 8.38e-02   | 0.00e+00   \n",
      " 38    | 9.52e+01   | 44 %       | 1.46e-29   | 0.00e+00   | 2.10e-10   | 8.38e-02   | 0.00e+00   \n",
      " 39    | 9.52e+01   | 44 %       | 1.46e-29   | 0.00e+00   | 2.10e-10   | 8.38e-02   | 0.00e+00   \n",
      " 40    | 9.52e+01   | 44 %       | 1.46e-29   | 0.00e+00   | 2.10e-10   | 8.38e-02   | 0.00e+00   \n",
      " 41    | 9.52e+01   | 44 %       | 1.46e-29   | 0.00e+00   | 2.10e-10   | 8.38e-02   | 0.00e+00   \n",
      " 42    | 9.52e+01   | 44 %       | 1.46e-29   | 0.00e+00   | 2.10e-10   | 8.38e-02   | 0.00e+00   \n",
      "Total iterations: 42, Calculation time: 0.38 s, Iterations per second: 111.70\n",
      "\n",
      "##### RESULTS (Compressor) #####\n",
      "+-----------------------+----------+----------+----------+--------+\n",
      "|                       |        P |    eta_s |       pr |   igva |\n",
      "|-----------------------+----------+----------+----------+--------|\n",
      "| Frischluft-Verdichter | 6.60e+08 | \u001b[94m8.00e-01\u001b[0m | 3.00e+01 |    nan |\n",
      "+-----------------------+----------+----------+----------+--------+\n",
      "##### RESULTS (CombustionChamber) #####\n",
      "+--------------------+----------+----------+\n",
      "|                    |     lamb |       ti |\n",
      "|--------------------+----------+----------|\n",
      "| Verbrennungskammer | \u001b[94m1.05e+00\u001b[0m | 1.39e+09 |\n",
      "+--------------------+----------+----------+\n",
      "##### RESULTS (Connection) #####\n",
      "+----+-----------+-----------+-----------+-----------+\n",
      "|    |         m |         p |         h |         T |\n",
      "|----+-----------+-----------+-----------+-----------|\n",
      "| 10 | \u001b[94m1.000e+02\u001b[0m | \u001b[94m3.000e+01\u001b[0m | 8.569e+02 | \u001b[94m1.500e+01\u001b[0m |\n",
      "| 11 | 4.089e+03 | 3.000e+01 | 2.253e+03 | 1.478e+03 |\n",
      "| 20 | 3.989e+03 | \u001b[94m1.000e+00\u001b[0m | 2.912e+02 | \u001b[94m1.500e+01\u001b[0m |\n",
      "| 21 | 3.989e+03 | 3.000e+01 | 8.863e+02 | 5.768e+02 |\n",
      "+----+-----------+-----------+-----------+-----------+\n",
      "##### RESULTS (Bus: motor-for-air-compression) #####\n",
      "+-----------------------+-------------------+-------------+--------------+\n",
      "|                       |   component value |   bus value |   efficiency |\n",
      "|-----------------------+-------------------+-------------+--------------|\n",
      "| Frischluft-Verdichter |         6.595e+08 |   6.764e+08 |    9.750e-01 |\n",
      "| total                 |         6.595e+08 |   6.764e+08 |  nan         |\n",
      "+-----------------------+-------------------+-------------+--------------+\n"
     ]
    }
   ],
   "source": [
    "#network\n",
    "dampferzeuger = Network(T_unit = 'C', p_unit = 'bar', h_unit = 'kJ / kg', m_unit = 't / h')\n",
    "\n",
    "#components\n",
    "src_gas = Source('Erdgas')\n",
    "src_air = Source('Luft')\n",
    "snk_gas = Sink('Abgas')\n",
    "cmp_comp_air = Compressor('Frischluft-Verdichter')\n",
    "cmp_cc = CombustionChamber('Verbrennungskammer')\n",
    "\n",
    "#connections\n",
    "c20 = Connection(src_air, 'out1', cmp_comp_air, 'in1', label = '20')\n",
    "c21 = Connection(cmp_comp_air, 'out1', cmp_cc, 'in2', label = '21')\n",
    "c10 = Connection(src_gas, 'out1', cmp_cc, 'in1', label = '10')\n",
    "c11 = Connection(cmp_cc, 'out1', snk_gas, 'in1', label = '11')\n",
    "\n",
    "dampferzeuger.add_conns(c10, c11, c20, c21)\n",
    "\n",
    "# PARAMETERS\n",
    "\n",
    "#components\n",
    "cmp_comp_air.set_attr(eta_s = 0.8)\n",
    "cmp_cc.set_attr(lamb = 1.05)\n",
    "\n",
    "#connections\n",
    "flux_test = 100\n",
    "c10.set_attr(p = 30, T = 15, m = flux_test, fluid = fld_gas)\n",
    "c20.set_attr(p = 1 , T = 15, fluid = fld_air)\n",
    "\n",
    "motor_comp_air = Bus('motor-for-air-compression')\n",
    "motor_comp_air.add_comps({'comp' : cmp_comp_air, 'char' : 0.975, 'base' : 'bus'})\n",
    "\n",
    "dampferzeuger.add_busses(motor_comp_air)\n",
    "\n",
    "#solve\n",
    "dampferzeuger.solve(mode='design')\n",
    "dampferzeuger.print_results()"
   ]
  },
  {
   "cell_type": "code",
   "execution_count": null,
   "id": "5c072c49",
   "metadata": {},
   "outputs": [],
   "source": []
  },
  {
   "cell_type": "code",
   "execution_count": null,
   "id": "d512af9d",
   "metadata": {},
   "outputs": [],
   "source": []
  },
  {
   "cell_type": "code",
   "execution_count": null,
   "id": "544f2dd0",
   "metadata": {},
   "outputs": [],
   "source": []
  },
  {
   "cell_type": "code",
   "execution_count": null,
   "id": "cb2008b0",
   "metadata": {},
   "outputs": [],
   "source": []
  }
 ],
 "metadata": {
  "kernelspec": {
   "display_name": "Python 3 (ipykernel)",
   "language": "python",
   "name": "python3"
  },
  "language_info": {
   "codemirror_mode": {
    "name": "ipython",
    "version": 3
   },
   "file_extension": ".py",
   "mimetype": "text/x-python",
   "name": "python",
   "nbconvert_exporter": "python",
   "pygments_lexer": "ipython3",
   "version": "3.10.9"
  }
 },
 "nbformat": 4,
 "nbformat_minor": 5
}
